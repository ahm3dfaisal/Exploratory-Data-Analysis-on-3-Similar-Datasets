{
  "nbformat": 4,
  "nbformat_minor": 0,
  "metadata": {
    "colab": {
      "provenance": [],
      "authorship_tag": "ABX9TyOCQqmB2BVHbphCnymmJCXx",
      "include_colab_link": true
    },
    "kernelspec": {
      "name": "python3",
      "display_name": "Python 3"
    },
    "language_info": {
      "name": "python"
    }
  },
  "cells": [
    {
      "cell_type": "markdown",
      "metadata": {
        "id": "view-in-github",
        "colab_type": "text"
      },
      "source": [
        "<a href=\"https://colab.research.google.com/github/ahm3dfaisal/Exploratory-Data-Analysis-on-3-Similar-Datasets/blob/main/EDA_Leisure_Dataset.ipynb\" target=\"_parent\"><img src=\"https://colab.research.google.com/assets/colab-badge.svg\" alt=\"Open In Colab\"/></a>"
      ]
    },
    {
      "cell_type": "markdown",
      "source": [
        "Setting up pyspark and other necssaary libraries."
      ],
      "metadata": {
        "id": "EqZfbS1TBJJ6"
      }
    },
    {
      "cell_type": "code",
      "execution_count": null,
      "metadata": {
        "id": "gL7kLUPrwmAA"
      },
      "outputs": [],
      "source": [
        "!apt-get install openjdk-8-jdk-headless -qq >/dev/null"
      ]
    },
    {
      "cell_type": "code",
      "source": [
        "!wget -q https://dlcdn.apache.org/spark/spark-3.3.1/spark-3.3.1-bin-hadoop3.tgz\n",
        "!tar xf spark-3.3.1-bin-hadoop3.tgz"
      ],
      "metadata": {
        "id": "5DSwwA-01Vze"
      },
      "execution_count": null,
      "outputs": []
    },
    {
      "cell_type": "code",
      "source": [
        "import os\n",
        "os.environ[\"JAVA_HOME\"] = \"/usr/lib/jvm/java-8-openjdk-amd64\"\n",
        "os.environ[\"SPARK_HOME\"] = '/content/spark-3.3.1-bin-hadoop3'"
      ],
      "metadata": {
        "id": "FbWo1Iqy1Zed"
      },
      "execution_count": null,
      "outputs": []
    },
    {
      "cell_type": "code",
      "source": [
        "!pip install -q findspark\n",
        "import findspark\n",
        "findspark.init()\n",
        "findspark.find()"
      ],
      "metadata": {
        "colab": {
          "base_uri": "https://localhost:8080/",
          "height": 36
        },
        "id": "RpUlumV51c7E",
        "outputId": "fdf855e3-3f9c-445e-907b-dc9b101684f7"
      },
      "execution_count": null,
      "outputs": [
        {
          "output_type": "execute_result",
          "data": {
            "text/plain": [
              "'/content/spark-3.3.1-bin-hadoop3'"
            ],
            "application/vnd.google.colaboratory.intrinsic+json": {
              "type": "string"
            }
          },
          "metadata": {},
          "execution_count": 4
        }
      ]
    },
    {
      "cell_type": "code",
      "source": [
        "from pyspark.sql import SparkSession\n",
        "from pyspark.sql.functions import udf\n",
        "from pyspark.sql.types import StringType\n",
        "from pyspark.sql.types import IntegerType\n",
        "from pyspark.sql.functions import desc\n",
        "from pyspark.sql.functions import asc\n",
        "from pyspark.sql.functions import sum as Fsum\n",
        "from pyspark.sql.functions import col\n",
        "from pyspark.sql.functions import isnan,when,count\n",
        "from pyspark.sql import functions as F\n",
        "\n",
        "import datetime\n",
        "import numpy as np\n",
        "\n",
        "import pandas as pd\n",
        "\n",
        "%matplotlib inline\n",
        "\n",
        "import matplotlib.pyplot as plt"
      ],
      "metadata": {
        "id": "Pl8ehLds1fo7"
      },
      "execution_count": null,
      "outputs": []
    },
    {
      "cell_type": "code",
      "source": [
        "spark = SparkSession \\\n",
        "    .builder \\\n",
        "    .appName(\"Test 2 Spark\") \\\n",
        "    .getOrCreate()"
      ],
      "metadata": {
        "id": "VbKypn_B1iHG"
      },
      "execution_count": null,
      "outputs": []
    },
    {
      "cell_type": "markdown",
      "source": [
        "Reading the data."
      ],
      "metadata": {
        "id": "-all8X6i1jTO"
      }
    },
    {
      "cell_type": "code",
      "source": [
        "path = \"data/leisure.csv\"\n",
        "leisure_log = spark.read.csv(path, header = True)"
      ],
      "metadata": {
        "id": "yP1Huqfe1m7Q"
      },
      "execution_count": null,
      "outputs": []
    },
    {
      "cell_type": "code",
      "source": [
        "leisure_log.printSchema()"
      ],
      "metadata": {
        "colab": {
          "base_uri": "https://localhost:8080/"
        },
        "id": "xRBl3U-5108n",
        "outputId": "15dd3c39-8987-492f-9d00-8a857c6aa6c4"
      },
      "execution_count": null,
      "outputs": [
        {
          "output_type": "stream",
          "name": "stdout",
          "text": [
            "root\n",
            " |-- _c0: string (nullable = true)\n",
            " |-- name: string (nullable = true)\n",
            " |-- leisure: string (nullable = true)\n",
            " |-- longitude-lattitude: string (nullable = true)\n",
            " |-- All_tags: string (nullable = true)\n",
            "\n"
          ]
        }
      ]
    },
    {
      "cell_type": "markdown",
      "source": [
        "Adding a name to the unnamed column."
      ],
      "metadata": {
        "id": "xSQu_sgw17if"
      }
    },
    {
      "cell_type": "code",
      "source": [
        "leisure_log = leisure_log.withColumnRenamed(\"_c0\", \"id\")"
      ],
      "metadata": {
        "id": "wcfrKdD014V3"
      },
      "execution_count": null,
      "outputs": []
    },
    {
      "cell_type": "code",
      "source": [
        "leisure_log.show()"
      ],
      "metadata": {
        "colab": {
          "base_uri": "https://localhost:8080/"
        },
        "id": "9BWBjXtT2DFH",
        "outputId": "1a0f0cc6-d08b-436d-a249-737ba472db28"
      },
      "execution_count": null,
      "outputs": [
        {
          "output_type": "stream",
          "name": "stdout",
          "text": [
            "+---------+--------------------+-------------+--------------------+--------------------+\n",
            "|       id|                name|      leisure| longitude-lattitude|            All_tags|\n",
            "+---------+--------------------+-------------+--------------------+--------------------+\n",
            "|249132377|DLF Golf Links Go...|  golf_course|(77.1047102999998...|{'name': 'DLF Gol...|\n",
            "|250737365|                null|         park|(80.2378664000000...| {'leisure': 'park'}|\n",
            "|250979543|         Yoga Centre|sports_centre|(75.8870475, 31.5...|{'name': 'Yoga Ce...|\n",
            "|280167017|       Black Thunder|   water_park|(76.9132247999999...|{'name': 'Black T...|\n",
            "|280701513|Ootacamund Gymkha...|  golf_course|(76.6715780999999...|{'name': 'Ootacam...|\n",
            "|285883594|Coimbatore Golf C...|  golf_course|(77.0205913000001...|{'name': 'Coimbat...|\n",
            "|293675085|      Aberdeen Jetty|       marina|(92.7496630000002...|{'name': 'Aberdee...|\n",
            "|293675089|   Phoenix Bay Jetty|       marina|(92.7342900000002...|{'name': 'Phoenix...|\n",
            "|293675097|          NSRY Jetty|       marina|(92.7148500000002...|{'name': 'NSRY Je...|\n",
            "|305551885|          Kids' Park|   playground|(75.8598035000005...|\"{'name': \"\"Kids'...|\n",
            "|310904218|      SR Tennis Club|sports_centre|(80.1915071, 12.9...|{'name': 'SR Tenn...|\n",
            "|314799320|            Eagleton|  golf_course|(77.4119520999999...|{'name': 'Eagleto...|\n",
            "|316417293|            Chittoor|         park|(79.0000000000000...|{'name': 'Chittoo...|\n",
            "|317710945|                JWGC|  golf_course|(76.6664884999999...|{'name': 'JWGC', ...|\n",
            "|321833222|Madras Gymkhana Club|         club|(80.2771901999999...|{'name': 'Madras ...|\n",
            "|321982959|   Guindy Racecourse|        track|(80.2156143999999...|{'leisure': 'trac...|\n",
            "|324219353|                null|  golf_course|(74.39116, 34.052...|{'leisure': 'golf...|\n",
            "|324862109|Osmania Universit...|      stadium|(78.5313157000000...|{'name': 'Osmania...|\n",
            "|325200225|             Alandur|         park|(80.1942836999999...|{'name': 'Alandur...|\n",
            "|329442422|                null|      slipway|(76.9850592999995...|{'leisure': 'slip...|\n",
            "+---------+--------------------+-------------+--------------------+--------------------+\n",
            "only showing top 20 rows\n",
            "\n"
          ]
        }
      ]
    },
    {
      "cell_type": "markdown",
      "source": [
        "How many null values in dataset."
      ],
      "metadata": {
        "id": "s-_DrOlc2aYV"
      }
    },
    {
      "cell_type": "code",
      "source": [
        "null_count = leisure_log.select([count(when(col(c).contains('None') | \\\n",
        "                            col(c).contains('NULL') | \\\n",
        "                            (col(c) == '' ) | \\\n",
        "                            col(c).isNull() | \\\n",
        "                            isnan(c), c\n",
        "                           )).alias(c)\n",
        "                    for c in leisure_log.columns])"
      ],
      "metadata": {
        "id": "bIvEbGZc2Hwv"
      },
      "execution_count": null,
      "outputs": []
    },
    {
      "cell_type": "code",
      "source": [
        "null_count.show()"
      ],
      "metadata": {
        "colab": {
          "base_uri": "https://localhost:8080/"
        },
        "id": "N0tErd3u2V4N",
        "outputId": "009a2d23-10f1-4e7b-82b7-e8ba19dba5a2"
      },
      "execution_count": null,
      "outputs": [
        {
          "output_type": "stream",
          "name": "stdout",
          "text": [
            "+---+-----+-------+-------------------+--------+\n",
            "| id| name|leisure|longitude-lattitude|All_tags|\n",
            "+---+-----+-------+-------------------+--------+\n",
            "|  0|27143|      0|              37876|       2|\n",
            "+---+-----+-------+-------------------+--------+\n",
            "\n"
          ]
        }
      ]
    },
    {
      "cell_type": "markdown",
      "source": [
        "Dropping the null values in longitude-lattitude columns only.\n",
        "\n",
        "---\n",
        "\n"
      ],
      "metadata": {
        "id": "9GHZQIZz22yW"
      }
    },
    {
      "cell_type": "markdown",
      "source": [
        "No. of entries in longitude-lattitude column before dropping."
      ],
      "metadata": {
        "id": "0Es_lZUQ3Gzk"
      }
    },
    {
      "cell_type": "code",
      "source": [
        "leisure_log.select(\"longitude-lattitude\").count()"
      ],
      "metadata": {
        "colab": {
          "base_uri": "https://localhost:8080/"
        },
        "id": "NRGMfuoV2eIy",
        "outputId": "281fcc16-3015-415e-eaf9-f799ffa57b02"
      },
      "execution_count": null,
      "outputs": [
        {
          "output_type": "execute_result",
          "data": {
            "text/plain": [
              "43689"
            ]
          },
          "metadata": {},
          "execution_count": 16
        }
      ]
    },
    {
      "cell_type": "markdown",
      "source": [
        "Dropping the null values."
      ],
      "metadata": {
        "id": "Jmur5vgbduop"
      }
    },
    {
      "cell_type": "code",
      "source": [
        "leisure_log_2 = leisure_log.na.drop(subset=[\"longitude-lattitude\"])"
      ],
      "metadata": {
        "id": "Ro14wkUA3Pe2"
      },
      "execution_count": null,
      "outputs": []
    },
    {
      "cell_type": "code",
      "source": [
        "leisure_log_2.select(\"longitude-lattitude\").count()"
      ],
      "metadata": {
        "colab": {
          "base_uri": "https://localhost:8080/"
        },
        "id": "tXMV5eey3YdI",
        "outputId": "78c685df-478a-48fa-e957-e3bb7c5bfb5d"
      },
      "execution_count": null,
      "outputs": [
        {
          "output_type": "execute_result",
          "data": {
            "text/plain": [
              "5813"
            ]
          },
          "metadata": {},
          "execution_count": 18
        }
      ]
    },
    {
      "cell_type": "markdown",
      "source": [
        "Checking for duplicates and ropping them."
      ],
      "metadata": {
        "id": "9DgGuYMQ311T"
      }
    },
    {
      "cell_type": "code",
      "source": [
        "leisure_log_2.select(\"longitude-lattitude\").distinct().count()"
      ],
      "metadata": {
        "colab": {
          "base_uri": "https://localhost:8080/"
        },
        "id": "IpN2ClHG31Eb",
        "outputId": "9e96edf5-639b-439e-8431-bdb41a5b0d99"
      },
      "execution_count": null,
      "outputs": [
        {
          "output_type": "execute_result",
          "data": {
            "text/plain": [
              "5811"
            ]
          },
          "metadata": {},
          "execution_count": 19
        }
      ]
    },
    {
      "cell_type": "code",
      "source": [
        "leisure_log_3 = leisure_log_2.dropDuplicates([\"longitude-lattitude\"])"
      ],
      "metadata": {
        "id": "kyhpO3_y3_8N"
      },
      "execution_count": null,
      "outputs": []
    },
    {
      "cell_type": "code",
      "source": [
        "leisure_log_3.select(\"longitude-lattitude\").count()"
      ],
      "metadata": {
        "colab": {
          "base_uri": "https://localhost:8080/"
        },
        "id": "skJ9DC2q4Ip6",
        "outputId": "32d60cc8-daf8-4cb8-b100-ff395c8e2bf4"
      },
      "execution_count": null,
      "outputs": [
        {
          "output_type": "execute_result",
          "data": {
            "text/plain": [
              "5811"
            ]
          },
          "metadata": {},
          "execution_count": 21
        }
      ]
    },
    {
      "cell_type": "markdown",
      "source": [
        "Remove brackets from the longitude-lattitude column."
      ],
      "metadata": {
        "id": "f-YFEU525OcU"
      }
    },
    {
      "cell_type": "code",
      "source": [
        "leisure_log_4 = leisure_log_3.withColumn(\"longitude-lattitude\", F.regexp_replace(F.regexp_replace(F.regexp_replace(\"longitude-lattitude\", \"\\\\)\\\\(\", \"\"), \"\\\\(\", \"\"), \"\\\\)\", \"\"))"
      ],
      "metadata": {
        "id": "AHAN3cUC5P24"
      },
      "execution_count": null,
      "outputs": []
    },
    {
      "cell_type": "code",
      "source": [
        "leisure_log_4.show(truncate=False)"
      ],
      "metadata": {
        "colab": {
          "base_uri": "https://localhost:8080/"
        },
        "id": "Nt-P0viO5X70",
        "outputId": "21604f4f-44a0-4849-ae2c-bafc91fe494e"
      },
      "execution_count": null,
      "outputs": [
        {
          "output_type": "stream",
          "name": "stdout",
          "text": [
            "+----------+-----------------------------------+--------------+-------------------------------------+------------------------------------------------------------------------------------------------------------------------------------------------------------------------------------------------------------------------------------------------------------------------------------------------------------------------------------------------------------------------------------------------------------------------------------------------------------------------------------------------------------------------------------------------------------------------------------------------------------------------------------------------+\n",
            "|id        |name                               |leisure       |longitude-lattitude                  |All_tags                                                                                                                                                                                                                                                                                                                                                                                                                                                                                                                                                                                                                                        |\n",
            "+----------+-----------------------------------+--------------+-------------------------------------+------------------------------------------------------------------------------------------------------------------------------------------------------------------------------------------------------------------------------------------------------------------------------------------------------------------------------------------------------------------------------------------------------------------------------------------------------------------------------------------------------------------------------------------------------------------------------------------------------------------------------------------------+\n",
            "|6852423121|હરુદી                              |fitness_centre|69.05614949999985, 23.640535499999885|{'name': 'હરુદી', 'sport': 'yoga', 'leisure': 'fitness_centre', 'name:en': 'Harudi', 'name:hi': 'हृदि', 'postal_code': '370625'}                                                                                                                                                                                                                                                                                                                                                                                                                                                                                                                |\n",
            "|3776405253|Kamla Baug                         |park          |69.6239172000001, 21.63801860000007  |{'name': 'Kamla Baug', 'leisure': 'park'}                                                                                                                                                                                                                                                                                                                                                                                                                                                                                                                                                                                                       |\n",
            "|4314218234|null                               |sports_centre |70.05759260000013, 22.478704800000077|{'leisure': 'sports_centre'}                                                                                                                                                                                                                                                                                                                                                                                                                                                                                                                                                                                                                    |\n",
            "|4400079889|Destiny Pool & Snooker, Gym.       |fitness_centre|70.05791139999923, 22.478921900000035|{'name': 'Destiny Pool & Snooker, Gym.', 'phone': '9898613231', 'leisure': 'fitness_centre', 'name:en': 'Destiny Pool & Snooker, Gym.', 'addr:street': 'palace road opp.viral baugh', 'addr:postcode': '361008'}                                                                                                                                                                                                                                                                                                                                                                                                                                |\n",
            "|5681512116|pradarshan playground              |playground    |70.05927319999971, 22.47018550000012 |{'name': 'pradarshan playground', 'access': 'yes', 'leisure': 'playground', 'surface': 'ground', 'operator': 'jamnagar municiple corporation', 'description': 'a playground which is famous for playing cricket.'}                                                                                                                                                                                                                                                                                                                                                                                                                              |\n",
            "|5681588784|null                               |sports_centre |70.06883709999957, 22.467790300000157|{'leisure': 'sports_centre'}                                                                                                                                                                                                                                                                                                                                                                                                                                                                                                                                                                                                                    |\n",
            "|5681588782|null                               |swimming_pool |70.06933059999957, 22.467968800000158|{'sport': 'swimming', 'leisure': 'swimming_pool'}                                                                                                                                                                                                                                                                                                                                                                                                                                                                                                                                                                                               |\n",
            "|5236145987|karmacharinagar park               |park          |70.08192449999999, 22.420476699999952|{'name': 'karmacharinagar park', 'leisure': 'park'}                                                                                                                                                                                                                                                                                                                                                                                                                                                                                                                                                                                             |\n",
            "|5268370533|Munabao Station Park               |park          |70.27704620000048, 25.74383370000001 |{'name': 'Munabao Station Park', 'leisure': 'park'}                                                                                                                                                                                                                                                                                                                                                                                                                                                                                                                                                                                             |\n",
            "|4353442394|Life fitness                       |fitness_centre|70.35789399999996, 20.919198000000087|{'name': 'Life fitness', 'phone': '9429767011', 'leisure': 'fitness_centre', 'opening_hours': 'Mo-Sa 06:00-10:00, 16:00-22:00'}                                                                                                                                                                                                                                                                                                                                                                                                                                                                                                                 |\n",
            "|4410937489|null                               |fitness_centre|70.35796660000003, 20.919204699999945|\"{'phone': '9228393874', 'leisure': 'fitness_centre', 'name:en': \"\"Shree women's gym\"\"                                                                                                                                                                                                                                                                                                                                                                                                                                                                                                                                                          |\n",
            "|4353480689|Galaxy gym                         |fitness_centre|70.35844299999997, 20.910349000000064|{'name': 'Galaxy gym', 'leisure': 'fitness_centre', 'opening_hours': 'Mo-Sa 06:00-22:00'}                                                                                                                                                                                                                                                                                                                                                                                                                                                                                                                                                       |\n",
            "|4353442498|Maruti gym                         |fitness_centre|70.36317839999995, 20.910107900000085|{'name': 'Maruti gym', 'leisure': 'fitness_centre', 'opening_hours': 'Mo-Sa 06:00-10:00, 16:00-22:00'}                                                                                                                                                                                                                                                                                                                                                                                                                                                                                                                                          |\n",
            "|5037460626|Swimming Pool                      |fitness_centre|70.46419010000005, 21.510393200000028|{'name': 'Swimming Pool', 'leisure': 'fitness_centre', 'name:en': 'Swimming Pool'}                                                                                                                                                                                                                                                                                                                                                                                                                                                                                                                                                              |\n",
            "|6178345337|ICHCHHA ઇચ્છા                      |park          |70.57432119999933, 22.51992890000003 |{'name': 'ICHCHHA ઇચ્છા', 'leisure': 'park'}                                                                                                                                                                                                                                                                                                                                                                                                                                                                                                                                                                                                    |\n",
            "|8096342797|Out Of The Box                     |park          |70.72040359999967, 22.255121699999936|{'addr:city': 'Rajkot', 'addr:housenumber': 'Out Of The Box', 'addr:postcode': '360005', 'addr:street': 'Nyari Dam 1 Road , Kalawad Road', 'description': 'Out of The Box - Amazement Park is an amusement park and wedding venue in Rajkot which has the first-ever Paintball Court in Rajkot and multiple venues for all types of events.   Come have an adventurous day at Out of the box - Amazement Park and enjoy th', 'leisure': 'park', 'name': 'Out Of The Box', 'opening_hours': 'Mo-Su 9:00-22:00', 'opening_hours:covid19': 'same', 'operator': 'Out Of The Box', 'phone': '+918980989999', 'website': 'https://www.otbrajkot.com/'}|\n",
            "|1516086383|Saurashtra University Sports Center|sports_centre |70.74782360000017, 22.28794959999995 |{'name': 'Saurashtra University Sports Center', 'leisure': 'sports_centre'}                                                                                                                                                                                                                                                                                                                                                                                                                                                                                                                                                                     |\n",
            "|7503171319|Body temple gym & Fitness Center   |fitness_centre|70.77814119999988, 22.304093800000082|{'name': 'Body temple gym & Fitness Center', 'leisure': 'fitness_centre'}                                                                                                                                                                                                                                                                                                                                                                                                                                                                                                                                                                       |\n",
            "|7079061125|null                               |park          |70.7886663000002, 22.300639800000027 |{'leisure': 'park'}                                                                                                                                                                                                                                                                                                                                                                                                                                                                                                                                                                                                                             |\n",
            "|3183279438|Jubilee Park                       |park          |70.80172760000053, 22.300219799999876|{'name': 'Jubilee Park', 'leisure': 'park'}                                                                                                                                                                                                                                                                                                                                                                                                                                                                                                                                                                                                     |\n",
            "+----------+-----------------------------------+--------------+-------------------------------------+------------------------------------------------------------------------------------------------------------------------------------------------------------------------------------------------------------------------------------------------------------------------------------------------------------------------------------------------------------------------------------------------------------------------------------------------------------------------------------------------------------------------------------------------------------------------------------------------------------------------------------------------+\n",
            "only showing top 20 rows\n",
            "\n"
          ]
        }
      ]
    },
    {
      "cell_type": "markdown",
      "source": [
        "Splitting Longitude and lattitude into 2 columns"
      ],
      "metadata": {
        "id": "trHxlmf35daW"
      }
    },
    {
      "cell_type": "code",
      "source": [
        "from pyspark.sql.functions import split"
      ],
      "metadata": {
        "id": "zwvxPP7S5cc_"
      },
      "execution_count": null,
      "outputs": []
    },
    {
      "cell_type": "code",
      "source": [
        "new_leisure_log = leisure_log_4.withColumn('longitude', split(leisure_log_4['longitude-lattitude'], ',') .getItem(0)) \\\n",
        "                            .withColumn('lattitude', split(leisure_log_4['longitude-lattitude'], ',') .getItem(1))\n"
      ],
      "metadata": {
        "id": "MHhM5YzO5n4a"
      },
      "execution_count": null,
      "outputs": []
    },
    {
      "cell_type": "code",
      "source": [
        "new_leisure_log.show()"
      ],
      "metadata": {
        "colab": {
          "base_uri": "https://localhost:8080/"
        },
        "id": "zg6_aRch5yyy",
        "outputId": "a4135de7-19f9-4a31-c377-ab1757f2f2a0"
      },
      "execution_count": null,
      "outputs": [
        {
          "output_type": "stream",
          "name": "stdout",
          "text": [
            "+----------+--------------------+--------------+--------------------+--------------------+-----------------+-------------------+\n",
            "|        id|                name|       leisure| longitude-lattitude|            All_tags|        longitude|          lattitude|\n",
            "+----------+--------------------+--------------+--------------------+--------------------+-----------------+-------------------+\n",
            "|6852423121|               હરુદી|fitness_centre|69.05614949999985...|{'name': 'હરુદી',...|69.05614949999985| 23.640535499999885|\n",
            "|3776405253|          Kamla Baug|          park|69.6239172000001,...|{'name': 'Kamla B...| 69.6239172000001|  21.63801860000007|\n",
            "|4314218234|                null| sports_centre|70.05759260000013...|{'leisure': 'spor...|70.05759260000013| 22.478704800000077|\n",
            "|4400079889|Destiny Pool & Sn...|fitness_centre|70.05791139999923...|{'name': 'Destiny...|70.05791139999923| 22.478921900000035|\n",
            "|5681512116|pradarshan playgr...|    playground|70.05927319999971...|{'name': 'pradars...|70.05927319999971|  22.47018550000012|\n",
            "|5681588784|                null| sports_centre|70.06883709999957...|{'leisure': 'spor...|70.06883709999957| 22.467790300000157|\n",
            "|5681588782|                null| swimming_pool|70.06933059999957...|{'sport': 'swimmi...|70.06933059999957| 22.467968800000158|\n",
            "|5236145987|karmacharinagar park|          park|70.08192449999999...|{'name': 'karmach...|70.08192449999999| 22.420476699999952|\n",
            "|5268370533|Munabao Station Park|          park|70.27704620000048...|{'name': 'Munabao...|70.27704620000048|  25.74383370000001|\n",
            "|4353442394|        Life fitness|fitness_centre|70.35789399999996...|{'name': 'Life fi...|70.35789399999996| 20.919198000000087|\n",
            "|4410937489|                null|fitness_centre|70.35796660000003...|\"{'phone': '92283...|70.35796660000003| 20.919204699999945|\n",
            "|4353480689|          Galaxy gym|fitness_centre|70.35844299999997...|{'name': 'Galaxy ...|70.35844299999997| 20.910349000000064|\n",
            "|4353442498|          Maruti gym|fitness_centre|70.36317839999995...|{'name': 'Maruti ...|70.36317839999995| 20.910107900000085|\n",
            "|5037460626|       Swimming Pool|fitness_centre|70.46419010000005...|{'name': 'Swimmin...|70.46419010000005| 21.510393200000028|\n",
            "|6178345337|       ICHCHHA ઇચ્છા|          park|70.57432119999933...|{'name': 'ICHCHHA...|70.57432119999933|  22.51992890000003|\n",
            "|8096342797|      Out Of The Box|          park|70.72040359999967...|{'addr:city': 'Ra...|70.72040359999967| 22.255121699999936|\n",
            "|1516086383|Saurashtra Univer...| sports_centre|70.74782360000017...|{'name': 'Saurash...|70.74782360000017|  22.28794959999995|\n",
            "|7503171319|Body temple gym &...|fitness_centre|70.77814119999988...|{'name': 'Body te...|70.77814119999988| 22.304093800000082|\n",
            "|7079061125|                null|          park|70.7886663000002,...| {'leisure': 'park'}| 70.7886663000002| 22.300639800000027|\n",
            "|3183279438|        Jubilee Park|          park|70.80172760000053...|{'name': 'Jubilee...|70.80172760000053| 22.300219799999876|\n",
            "+----------+--------------------+--------------+--------------------+--------------------+-----------------+-------------------+\n",
            "only showing top 20 rows\n",
            "\n"
          ]
        }
      ]
    },
    {
      "cell_type": "markdown",
      "source": [
        "Drop the longitude-lattitude column."
      ],
      "metadata": {
        "id": "EG9PcPhQ5-eL"
      }
    },
    {
      "cell_type": "code",
      "source": [
        "new_leisure_log = new_leisure_log.drop(\"longitude-lattitude\")"
      ],
      "metadata": {
        "id": "po32BBlX53bP"
      },
      "execution_count": null,
      "outputs": []
    },
    {
      "cell_type": "code",
      "source": [
        "new_leisure_log.show()"
      ],
      "metadata": {
        "colab": {
          "base_uri": "https://localhost:8080/"
        },
        "id": "VuOZ3t_M6ISG",
        "outputId": "1252ce81-248f-4dfd-d510-0c3c50b7c67d"
      },
      "execution_count": null,
      "outputs": [
        {
          "output_type": "stream",
          "name": "stdout",
          "text": [
            "+----------+--------------------+--------------+--------------------+-----------------+-------------------+\n",
            "|        id|                name|       leisure|            All_tags|        longitude|          lattitude|\n",
            "+----------+--------------------+--------------+--------------------+-----------------+-------------------+\n",
            "|6852423121|               હરુદી|fitness_centre|{'name': 'હરુદી',...|69.05614949999985| 23.640535499999885|\n",
            "|3776405253|          Kamla Baug|          park|{'name': 'Kamla B...| 69.6239172000001|  21.63801860000007|\n",
            "|4314218234|                null| sports_centre|{'leisure': 'spor...|70.05759260000013| 22.478704800000077|\n",
            "|4400079889|Destiny Pool & Sn...|fitness_centre|{'name': 'Destiny...|70.05791139999923| 22.478921900000035|\n",
            "|5681512116|pradarshan playgr...|    playground|{'name': 'pradars...|70.05927319999971|  22.47018550000012|\n",
            "|5681588784|                null| sports_centre|{'leisure': 'spor...|70.06883709999957| 22.467790300000157|\n",
            "|5681588782|                null| swimming_pool|{'sport': 'swimmi...|70.06933059999957| 22.467968800000158|\n",
            "|5236145987|karmacharinagar park|          park|{'name': 'karmach...|70.08192449999999| 22.420476699999952|\n",
            "|5268370533|Munabao Station Park|          park|{'name': 'Munabao...|70.27704620000048|  25.74383370000001|\n",
            "|4353442394|        Life fitness|fitness_centre|{'name': 'Life fi...|70.35789399999996| 20.919198000000087|\n",
            "|4410937489|                null|fitness_centre|\"{'phone': '92283...|70.35796660000003| 20.919204699999945|\n",
            "|4353480689|          Galaxy gym|fitness_centre|{'name': 'Galaxy ...|70.35844299999997| 20.910349000000064|\n",
            "|4353442498|          Maruti gym|fitness_centre|{'name': 'Maruti ...|70.36317839999995| 20.910107900000085|\n",
            "|5037460626|       Swimming Pool|fitness_centre|{'name': 'Swimmin...|70.46419010000005| 21.510393200000028|\n",
            "|6178345337|       ICHCHHA ઇચ્છા|          park|{'name': 'ICHCHHA...|70.57432119999933|  22.51992890000003|\n",
            "|8096342797|      Out Of The Box|          park|{'addr:city': 'Ra...|70.72040359999967| 22.255121699999936|\n",
            "|1516086383|Saurashtra Univer...| sports_centre|{'name': 'Saurash...|70.74782360000017|  22.28794959999995|\n",
            "|7503171319|Body temple gym &...|fitness_centre|{'name': 'Body te...|70.77814119999988| 22.304093800000082|\n",
            "|7079061125|                null|          park| {'leisure': 'park'}| 70.7886663000002| 22.300639800000027|\n",
            "|3183279438|        Jubilee Park|          park|{'name': 'Jubilee...|70.80172760000053| 22.300219799999876|\n",
            "+----------+--------------------+--------------+--------------------+-----------------+-------------------+\n",
            "only showing top 20 rows\n",
            "\n"
          ]
        }
      ]
    },
    {
      "cell_type": "markdown",
      "source": [
        "SQL queries.\n",
        "\n",
        "---\n",
        "\n"
      ],
      "metadata": {
        "id": "Vk8ulf1e6MX0"
      }
    },
    {
      "cell_type": "code",
      "source": [
        "new_leisure_log.createOrReplaceTempView(\"leisure_log_table\")"
      ],
      "metadata": {
        "id": "leNA5rWv6Nyt"
      },
      "execution_count": null,
      "outputs": []
    },
    {
      "cell_type": "code",
      "source": [
        "spark.sql(\"SELECT * FROM leisure_log_table LIMIT 5\").show()"
      ],
      "metadata": {
        "colab": {
          "base_uri": "https://localhost:8080/"
        },
        "id": "hmYgzrRQ6ToZ",
        "outputId": "6e0c24e5-c96b-40ea-de75-fb83b21df96f"
      },
      "execution_count": null,
      "outputs": [
        {
          "output_type": "stream",
          "name": "stdout",
          "text": [
            "+----------+--------------------+--------------+--------------------+-----------------+-------------------+\n",
            "|        id|                name|       leisure|            All_tags|        longitude|          lattitude|\n",
            "+----------+--------------------+--------------+--------------------+-----------------+-------------------+\n",
            "|6852423121|               હરુદી|fitness_centre|{'name': 'હરુદી',...|69.05614949999985| 23.640535499999885|\n",
            "|3776405253|          Kamla Baug|          park|{'name': 'Kamla B...| 69.6239172000001|  21.63801860000007|\n",
            "|4314218234|                null| sports_centre|{'leisure': 'spor...|70.05759260000013| 22.478704800000077|\n",
            "|4400079889|Destiny Pool & Sn...|fitness_centre|{'name': 'Destiny...|70.05791139999923| 22.478921900000035|\n",
            "|5681512116|pradarshan playgr...|    playground|{'name': 'pradars...|70.05927319999971|  22.47018550000012|\n",
            "+----------+--------------------+--------------+--------------------+-----------------+-------------------+\n",
            "\n"
          ]
        }
      ]
    },
    {
      "cell_type": "markdown",
      "source": [
        "Find the count of the top lesiure places."
      ],
      "metadata": {
        "id": "_RFovUaseTf0"
      }
    },
    {
      "cell_type": "code",
      "source": [
        "leisure_frequency = spark.sql('''\n",
        "                    SELECT leisure, count(*) as Frequency\n",
        "                    FROM leisure_log_table\n",
        "                    GROUP BY leisure\n",
        "                    ORDER by Frequency DESC;\n",
        "                    '''\n",
        "                     )"
      ],
      "metadata": {
        "id": "9ufFchkS6aF1"
      },
      "execution_count": null,
      "outputs": []
    },
    {
      "cell_type": "code",
      "source": [
        "leisure_frequency.show()"
      ],
      "metadata": {
        "colab": {
          "base_uri": "https://localhost:8080/"
        },
        "id": "JMaTjJl66y5Q",
        "outputId": "16f0d39a-4031-4131-94fc-73d0315b6854"
      },
      "execution_count": null,
      "outputs": [
        {
          "output_type": "stream",
          "name": "stdout",
          "text": [
            "+----------------+---------+\n",
            "|         leisure|Frequency|\n",
            "+----------------+---------+\n",
            "|            park|     1798|\n",
            "|      playground|      773|\n",
            "|  fitness_centre|      580|\n",
            "|          resort|      544|\n",
            "|           pitch|      496|\n",
            "|   sports_centre|      494|\n",
            "|         fishing|      238|\n",
            "|          garden|      196|\n",
            "|         stadium|      159|\n",
            "|   swimming_pool|      155|\n",
            "|           dance|       58|\n",
            "| fitness_station|       56|\n",
            "|  nature_reserve|       52|\n",
            "|      water_park|       24|\n",
            "|          marina|       20|\n",
            "|         slipway|       16|\n",
            "|    beach_resort|       14|\n",
            "|          common|       13|\n",
            "|amusement_arcade|       12|\n",
            "|           track|       10|\n",
            "+----------------+---------+\n",
            "only showing top 20 rows\n",
            "\n"
          ]
        }
      ]
    },
    {
      "cell_type": "code",
      "source": [
        "leisure = spark.sql('''\n",
        "                    SELECT leisure\n",
        "                    FROM leisure_log_table;\n",
        "                    '''\n",
        "                     )"
      ],
      "metadata": {
        "id": "Dk4dNglm63oW"
      },
      "execution_count": null,
      "outputs": []
    },
    {
      "cell_type": "markdown",
      "source": [
        "Convert the lesiure to pandas to plot."
      ],
      "metadata": {
        "id": "ySl0f1Jbeeni"
      }
    },
    {
      "cell_type": "code",
      "source": [
        "leisure_pd = leisure.toPandas()"
      ],
      "metadata": {
        "id": "JJdYYOWQ7duF"
      },
      "execution_count": null,
      "outputs": []
    },
    {
      "cell_type": "code",
      "source": [
        "leisures = leisure_pd['leisure'].value_counts()"
      ],
      "metadata": {
        "id": "BEMvC3-t76dG"
      },
      "execution_count": null,
      "outputs": []
    },
    {
      "cell_type": "code",
      "source": [
        "import seaborn as sns"
      ],
      "metadata": {
        "id": "iYg6sLzl7ip2"
      },
      "execution_count": null,
      "outputs": []
    },
    {
      "cell_type": "code",
      "source": [
        "plt.figure(figsize=(12,10))\n",
        "\n",
        "plt.subplot(2,1,1)\n",
        "g = sns.countplot(x='leisure',\n",
        "                  data=leisure_pd[leisure_pd.leisure.isin(leisures[:15].index.values)],\n",
        "                  order=leisures[:15].index.values,)\n",
        "g.set_title(\"Top 15 Leisures in India\", fontsize=20)\n",
        "g.set_xlabel(\"\", fontsize=16)\n",
        "g.set_ylabel(\"Frequency\", fontsize=16)\n",
        "g.set_xticklabels(g.get_xticklabels(),rotation=45)\n",
        "\n",
        "plt.show()"
      ],
      "metadata": {
        "colab": {
          "base_uri": "https://localhost:8080/",
          "height": 368
        },
        "id": "FM_Echad8B6M",
        "outputId": "6a01c94c-fe37-452f-e429-795c038e1437"
      },
      "execution_count": null,
      "outputs": [
        {
          "output_type": "display_data",
          "data": {
            "text/plain": [
              "<Figure size 864x720 with 1 Axes>"
            ],
            "image/png": "[encoded data removed]"
          },
          "metadata": {
            "needs_background": "light"
          }
        }
      ]
    },
    {
      "cell_type": "markdown",
      "source": [
        "Select stadium from the lisure column and also names or tags with stadium."
      ],
      "metadata": {
        "id": "8tg0DHZ_e9-b"
      }
    },
    {
      "cell_type": "code",
      "source": [
        "stadium = spark.sql('''\n",
        "                    SELECT name, longitude, lattitude, leisure\n",
        "                    FROM leisure_log_table\n",
        "                    WHERE leisure = 'stadium' OR name LIKE '%stadium%' OR All_tags LIKE '%stadium%';\n",
        "                    '''\n",
        "                     )\n"
      ],
      "metadata": {
        "id": "yCWNKeWE-l8V"
      },
      "execution_count": null,
      "outputs": []
    },
    {
      "cell_type": "code",
      "source": [
        "stadium.count()"
      ],
      "metadata": {
        "colab": {
          "base_uri": "https://localhost:8080/"
        },
        "id": "qchTHGxq_I_p",
        "outputId": "fcba9ab7-aaa8-4e1d-ce77-27377390e0b6"
      },
      "execution_count": null,
      "outputs": [
        {
          "output_type": "execute_result",
          "data": {
            "text/plain": [
              "175"
            ]
          },
          "metadata": {},
          "execution_count": 46
        }
      ]
    },
    {
      "cell_type": "code",
      "source": [
        "stadium_pd = stadium.toPandas()"
      ],
      "metadata": {
        "id": "yUhKpQ3R_Oep"
      },
      "execution_count": null,
      "outputs": []
    },
    {
      "cell_type": "markdown",
      "source": [
        "Plot the map."
      ],
      "metadata": {
        "id": "wpccPhvdfMEi"
      }
    },
    {
      "cell_type": "code",
      "source": [
        "pip install geopandas"
      ],
      "metadata": {
        "id": "BUC3neyA_fkK"
      },
      "execution_count": null,
      "outputs": []
    },
    {
      "cell_type": "code",
      "source": [
        "import geopandas as gpd\n",
        "from geopandas import GeoDataFrame\n",
        "from shapely.geometry import Point"
      ],
      "metadata": {
        "id": "g50--vcm_dB6"
      },
      "execution_count": null,
      "outputs": []
    },
    {
      "cell_type": "code",
      "source": [
        "import plotly.express as px"
      ],
      "metadata": {
        "id": "uMhTQICZ_kmQ"
      },
      "execution_count": null,
      "outputs": []
    },
    {
      "cell_type": "markdown",
      "source": [
        "Convert to float to plot the coordinates."
      ],
      "metadata": {
        "id": "8onHoGPVfOHK"
      }
    },
    {
      "cell_type": "code",
      "source": [
        "stadium_pd[\"longitude\"] = stadium_pd[\"longitude\"].astype(float)\n",
        "stadium_pd[\"lattitude\"] = stadium_pd[\"lattitude\"].astype(float)"
      ],
      "metadata": {
        "id": "9V5QQnbF_nXF"
      },
      "execution_count": null,
      "outputs": []
    },
    {
      "cell_type": "code",
      "source": [
        "geometry = [Point(xy) for xy in zip(stadium_pd['longitude'], stadium_pd['lattitude'])]\n",
        "gdf = GeoDataFrame(stadium_pd, geometry = geometry)"
      ],
      "metadata": {
        "id": "BgxWbWdN_wER"
      },
      "execution_count": null,
      "outputs": []
    },
    {
      "cell_type": "code",
      "source": [
        "fig = px.scatter_geo(gdf,\n",
        "                    lat=gdf.geometry.y,\n",
        "                    lon=gdf.geometry.x,\n",
        "                    hover_data=[\"name\", \"leisure\"],\n",
        "                    locationmode=\"country names\"\n",
        "                    )\n",
        "fig.update_geos(fitbounds=\"locations\")\n",
        "fig.show()"
      ],
      "metadata": {
        "colab": {
          "base_uri": "https://localhost:8080/",
          "height": 542
        },
        "id": "bOs795Xq_2jI",
        "outputId": "fa8651e0-0ad6-4b59-9209-fb70c873b130"
      },
      "execution_count": null,
      "outputs": [
        {
          "output_type": "display_data",
          "data": {
            "text/html": [
              "<html>\n",
              "<head><meta charset=\"utf-8\" /></head>\n",
              "<body>\n",
              "    <div>            <script src=\"https://cdnjs.cloudflare.com/ajax/libs/mathjax/2.7.5/MathJax.js?config=TeX-AMS-MML_SVG\"></script><script type=\"text/javascript\">if (window.MathJax) {MathJax.Hub.Config({SVG: {font: \"STIX-Web\"}});}</script>                <script type=\"text/javascript\">window.PlotlyConfig = {MathJaxConfig: 'local'};</script>\n",
              "        <script src=\"https://cdn.plot.ly/plotly-2.8.3.min.js\"></script>                <div id=\"fa846a95-14a2-4b8b-ae5d-3be374b26fc2\" class=\"plotly-graph-div\" style=\"height:525px; width:100%;\"></div>            <script type=\"text/javascript\">                                    window.PLOTLYENV=window.PLOTLYENV || {};                                    if (document.getElementById(\"fa846a95-14a2-4b8b-ae5d-3be374b26fc2\")) {                    Plotly.newPlot(                        \"fa846a95-14a2-4b8b-ae5d-3be374b26fc2\",                        [{\"customdata\":[[\"\\u0921\\u0949. \\u0935\\u093e\\u092f \\u092a\\u093e\\u091f\\u0940\\u0932 \\u0938\\u094d\\u092a\\u094b\\u0930\\u094d\\u091f\\u094d\\u0938 \\u0938\\u094d\\u091f\\u0947\\u0921\\u093f\\u092f\\u092e\",\"stadium\"],[null,\"stadium\"],[\"Shri Damodar Lal Ji Maharaj Stadium\",\"stadium\"],[null,\"stadium\"],[\"Cuncolim Multi-purpose and indoor stadium\",\"sports_hall\"],[\"Guru Nanak College Playground\",\"stadium\"],[\"Railway Stadium\",\"stadium\"],[\"Shivaji Stadium\",\"stadium\"],[\"Sher Khan Wala Stadium\",\"stadium\"],[\"SMS College Stadium\",\"stadium\"],[\"Ajjarkaadu Stadium\",\"stadium\"],[\"Indore Stadium\",\"stadium\"],[\"TRC Polo Synthetic Turf Ground\",\"stadium\"],[\"Father Muller Stadium\",\"stadium\"],[\"JHELUM CLUB STADIUM MARVAL\",\"stadium\"],[\"Bajakudlu Stadium\",\"stadium\"],[\"Panchayath Ground\",\"stadium\"],[\"Lohara Stadium\",\"stadium\"],[\"Indoor Stadium\",\"stadium\"],[\"Rendezvous Indoor Stadium\",\"stadium\"],[\"University Stadium\",\"stadium\"],[\"Valapattanm mini stadium\",\"pitch\"],[\"Main indoor stadium\",\"stadium\"],[\"cricket fround\",\"stadium\"],[null,\"stadium\"],[\"Sports Council Stadium\",\"stadium\"],[\"Shri Pratap Yadav Stadium\",\"stadium\"],[\"Akal Stadium\",\"stadium\"],[null,\"stadium\"],[\"Indiragandi Mini Stadium\",\"stadium\"],[\"Nallur Stadium\",\"stadium\"],[\"Volleyball Court\",\"stadium\"],[\"Farook College Indoor Stadium\",\"stadium\"],[\"Dushera Ground\",\"stadium\"],[\"stadium pavilion\",\"stadium\"],[\"Kallanode rural stadium\",\"stadium\"],[\"Railway Ground\",\"stadium\"],[\"youth stadium\",\"stadium\"],[null,\"stadium\"],[\"lehal stadium and playground\",\"stadium\"],[\"pazhur mini stadium\",\"park\"],[null,\"stadium\"],[null,\"stadium\"],[\"Kaithapoyil Mini stadium\",\"pitch\"],[\"SS College Indoor Stadium\",\"stadium\"],[\"Cherangakund Mini Stadium\",\"stadium\"],[\"jawaharlal indoor stadium,\",\"stadium\"],[\"KSA Sports ground\",\"stadium\"],[\"Indoor Stadium\",\"stadium\"],[\"T S G A Thriprayer\",\"stadium\"],[\"Every Green Club Ground\",\"stadium\"],[null,\"fitness_station\"],[null,\"stadium\"],[\"FC Thalakkottukara Home Ground\",\"stadium\"],[\"Kaiparamb Grama Panchayath Stadium\",\"stadium\"],[\"srewkandappa stadium Meenangadi\",\"stadium\"],[\"meenangadi panchayath stadium\",\"playground\"],[\"akg stadium\",\"playground\"],[\"seetha devi temple stage\",\"stadium\"],[\"thrissur muncipal stadium\",\"stadium\"],[\"atlantis mini stadium\",\"stadium\"],[\"Rajiv Gandhi Indoor Stadium\",\"stadium\"],[\"RSCC indoor stadium\",\"stadium\"],[\"Indoor Stadium\",\"stadium\"],[\"CH Mini Stadium\",\"stadium\"],[\"Mini Stadium Nayadikunnu\",\"stadium\"],[\"chettanpadi stadium\",\"stadium\"],[\"arafa auditorium\",\"stadium\"],[\"KE College Indoor Stadium\",\"stadium\"],[\"indoor stadium kottayam\",\"stadium\"],[\"St.Thomas Minor Seminari Stadium\",\"stadium\"],[\"Panchayat play ground\",\"playground\"],[\"S B college stadium\",\"stadium\"],[\"PFR Ground\",\"stadium\"],[\"District Ground Indoor Stedium\",\"stadium\"],[\"lal bahadur shastri stadium\",\"stadium\"],[\"Panchayath Mini Stadium\",\"stadium\"],[\"Mallappally public stadium\",\"stadium\"],[\"Jimmy George Stadium\",\"stadium\"],[\"Kavuthadathill Indoor Stadium\",\"stadium\"],[null,\"stadium\"],[\"oonnukal mini stadium\",\"stadium\"],[\"Panjayath Open Air Stadium\",\"stadium\"],[\"municipal stadium\",\"stadium\"],[\"Mullanpur International Cricket Stadium\",\"pitch\"],[\"Nadakkal Mini Stadium\",\"stadium\"],[\"Municipal Stadium\",\"stadium\"],[\"Chadayamangalam Panchayat Stadium\",\"stadium\"],[\"SAI Indoor Stadium\",\"stadium\"],[\"Paddal Stadium\",\"stadium\"],[\"Kerala University Stadium\",\"stadium\"],[\"kowdiar palace shuttle court\",\"stadium\"],[\"Atlo stadium\",\"stadium\"],[\"Axel football stadium\",\"stadium\"],[\"BBA\",\"stadium\"],[\"fly bird\",\"stadium\"],[\"Tau Devi Lal Cricket Stadium\",\"stadium\"],[\"Tau Devi Lal Football Stadium\",\"stadium\"],[null,\"stadium\"],[null,\"stadium\"],[\"P T Usha Stadium\",\"stadium\"],[\"Lourdes Matha Stadium\",\"stadium\"],[\"Sree Indoor Stadium\",\"stadium\"],[\"Indoor Badminton Court\",\"stadium\"],[\"Jnana Vikas College Grounds\",\"stadium\"],[\"Cricket Stadium\",\"stadium\"],[\"Kotkhai Stadium\",\"stadium\"],[null,\"stadium\"],[\"Hill View Stadium\",\"stadium\"],[\"Mini Stadium Quansi\",\"stadium\"],[\"Dr Bhim Rao Amedkar Stadioum\",\"stadium\"],[\"Indoor stadium\",\"stadium\"],[null,\"stadium\"],[\"NTR Mini Stadium\",\"stadium\"],[\"greater hyderabad muncipal corparation stadium\",\"sports_centre\"],[\"Crcket Grounds\",\"stadium\"],[\"Osmania University Stadium\",\"stadium\"],[\"Indoor Stadium\",\"stadium\"],[\"Indor Stadium\",\"stadium\"],[\"MLB Cricket Stadium\",\"stadium\"],[\"Rajiv Gandhi Indoor Stadium\",\"stadium\"],[\"Jawaharlal Nehru Stadium\",\"stadium\"],[\"Siddipet mini Stadium\",\"stadium\"],[null,\"stadium\"],[null,\"stadium\"],[\"Ambedakar stadium\",\"stadium\"],[\"Nethaji sports stadium\",\"stadium\"],[\"sasti township stadium\",\"playground\"],[\"Stadium\",\"stadium\"],[\"Indira Stadium\",\"stadium\"],[\"mahatma gandhi stadium\",\"stadium\"],[\"Railway Stadium\",\"stadium\"],[\"University Indoor Stadium\",\"stadium\"],[\"Gymnastics Stadium\",\"stadium\"],[\"Jawaharlal Nehru Stadium\",\"stadium\"],[\"New Planetarium\",\"stadium\"],[\"indoor stadium\",\"stadium\"],[\"Karaikal Indoor Stadium\",\"stadium\"],[\"Thiruvallur Stadium\",\"stadium\"],[\"Daak Bangala Stadium\",\"stadium\"],[\"NESCO BasketBall Court\",\"stadium\"],[\"IIT Madras Stadium (Manohar C Watsa Stadium)\",\"stadium\"],[\"Dr. Gokaraju Liala Gangaaraju ACA Cricket Ground\",\"stadium\"],[\"Indoor stadium\",\"summer_camp\"],[\"cricket stadium\",\"stadium\"],[\"Dnr indoor stadium\",\"sports_centre\"],[\"Sardar Vallabh Bhai Patel International Hockey Stadium\",\"stadium\"],[\"indoor stadium\",\"stadium\"],[\"SAAP Indoor stadium\",\"fitness_centre\"],[null,\"stadium\"],[null,\"stadium\"],[\"police stadium\",\"stadium\"],[\"Sikandarpur Stadium\",\"stadium\"],[\"Kalinga Stadium\",\"stadium\"],[\"Charbatia Stadium\",\"stadium\"],[null,\"stadium\"],[null,\"stadium\"],[\"Asansol Indoor stadium\",\"sports_centre\"],[\"Robison stadium\",\"park\"],[\"Kolkata Football grund\",\"stadium\"],[\"Kolkata Football grund\",\"stadium\"],[\"Kolkata Football grund\",\"stadium\"],[\"Sailen Manna Stadium\",\"stadium\"],[\"Kolkata Football grund\",\"stadium\"],[\"Kolkata Football grund\",\"stadium\"],[\"Kolkata Football grund\",\"stadium\"],[\"Kolkata Football grund\",\"stadium\"],[\"Kolkata Football grund\",\"stadium\"],[\"Kolkata Football grund\",\"stadium\"],[\"Kolkata Football grund\",\"stadium\"],[null,\"stadium\"],[\"Town Club Stadium\",\"stadium\"],[\"Wild Mahseer\",\"stadium\"],[null,\"stadium\"],[\"Indoor Stadium\",\"stadium\"]],\"geo\":\"geo\",\"hovertemplate\":\"lat=%{lat}<br>lon=%{lon}<br>name=%{customdata[0]}<br>leisure=%{customdata[1]}<extra></extra>\",\"lat\":[19.042050299999946,15.688098800000006,24.941486600000033,15.467609799999986,15.175689499999802,30.936608699999976,30.941625100000007,16.82107100000008,30.952265399999973,13.430322599999995,13.332760699999998,34.06345039999994,34.074212800000026,12.867388799999963,33.97372510000012,12.647608000000037,12.537623600000009,30.873366699999973,30.82016959999988,12.122754599999993,19.90029880000006,11.928615599999867,11.891423200000022,31.209109599999987,11.684436000000048,11.443126799999995,26.901110799999874,31.21903999999981,13.329945799999983,11.369288099999931,11.172357199999894,30.860982499999942,11.199880699999607,30.861427300000017,11.534214400000018,11.534469099999953,17.668933199999962,11.146848699999996,11.146470899999997,30.68815100000002,11.283178900000015,11.145006000000008,11.14832490000001,11.479738399999924,11.234688299999913,11.190005399999981,10.648891,31.018778399999835,13.019701399999855,10.416704399999972,11.149306899999994,11.740829999999987,29.598924199999995,10.646660100000018,10.595967000000018,11.661406999999972,11.661573200000024,10.507184999999993,11.792295200000071,10.532494100000022,9.954246500000027,9.968300900000013,10.05326100000003,10.2760821,10.968056399999998,10.985425400000008,10.99144610000006,10.951978600000022,9.6438271,9.592865299999996,9.494499700000038,9.0872737,9.452664600000062,9.348690600000072,18.39367759999997,8.883128599999955,10.028487499999901,9.445787500000066,9.701383400000022,9.102652400000009,9.15646840000004,10.051836899999884,10.006577199999924,9.896695300000019,30.778747900000017,8.850076900000065,9.261107200000083,8.869738499999997,8.47947780000001,31.700232999999912,8.50788469999993,8.522871399999957,8.473410799999934,8.478348099999934,8.477768000000044,8.474095000000005,28.44300990000003,28.440379100000015,8.485879400000025,8.485874000000024,8.671683700000003,8.557187399999995,8.56748809999999,28.573581099999878,12.80009040000002,31.12012609999999,31.118051700000002,12.935341400000029,14.159797400000098,30.713055600000143,26.490297,11.478194799999969,10.241175300000066,19.09676620000014,17.402290699999853,17.301135000000063,17.423648600000043,17.35458489999997,17.353761999999985,25.482480200000108,25.455161100000055,10.781357999999948,18.10398630000009,24.750836400000072,26.969415799999943,18.428953399999852,12.915208499999954,19.794093600000192,29.390798999999962,26.001223600000078,18.7475099,17.976039599999996,18.02790890000004,18.00469350000003,18.00413410000004,17.99024799999998,17.98987069999998,10.919113999999972,12.027408700000006,25.291517200000055,12.50512779999994,12.991827099999972,16.62747840000004,16.547240799999994,24.584904400000045,16.536421599999976,21.249304800000143,22.0982687,16.984931700000068,24.202065100000045,26.7906572999999,19.351716499999988,26.132962699999997,20.28791929999995,20.55321330000025,23.327367500000054,23.326830100000056,23.686419599999983,23.624167899999996,22.544771899999898,22.542649299999898,22.545928399999898,22.58343460000008,22.547332199999897,22.5404221999999,22.548267499999895,22.5410138999999,22.548084899999896,22.5437659999999,22.546613599999898,24.3706685,26.52587229999992,26.820843699999994,26.512632899999833,25.662156699999954],\"legendgroup\":\"\",\"locationmode\":\"country names\",\"lon\":[73.02673080000069,73.71130289999998,73.81992420000003,73.86233410000025,74.00349439999988,74.61968390000004,74.62486120000007,74.64215650000023,74.74043929999927,74.74047359999993,74.74305989999995,74.80671860000048,74.82757919999987,74.86238999999983,74.90430220000006,75.09892370000023,75.16022949999984,75.1792939000004,75.18974189999987,75.20835670000068,75.31466519999974,75.34673519999906,75.40881930000026,75.43379889999994,75.65744129999935,75.69322480000022,75.73472159999987,75.75917029999972,75.79237919999953,75.79436640000009,75.83775930000016,75.83813659999981,75.85673400000057,75.86916969999992,75.87569020000007,75.87581530000001,75.89271420000021,75.96049299999986,75.96123349999985,75.96323890000001,75.9744028999996,75.97687840000003,75.97871230000003,76.00218139999961,76.03976059999998,76.06464929999957,76.07055339999951,76.08688930000007,76.1010385999996,76.10846300000001,76.11351910000009,76.11825730000004,76.12799029999992,76.12906199999975,76.15292669999987,76.16335459999992,76.16337960000038,76.16670700000013,76.16936279999993,76.21588000000044,76.29500399999998,76.29809669999973,76.3175771,76.32606380000016,76.43810640000014,76.45726330000029,76.5072714999998,76.51350859999975,76.51934130000014,76.52750339999982,76.5288102,76.52900640000023,76.53786549999973,76.53903170000035,76.56403269999983,76.59903150000002,76.65742649999977,76.65807719999962,76.66587289999975,76.68907800000004,76.69570030000017,76.70888029999995,76.7101734000001,76.71139020000041,76.7237279000004,76.75388980000034,76.78329799999983,76.8719572,76.91221959999996,76.9445853000002,76.95095259999997,76.96133379999965,76.97344109999995,76.97471369999994,76.98036269999993,76.9915180000001,77.03582499999973,77.03660209999998,77.07426830000033,77.07470840000033,77.08385979999954,77.10147319999999,77.10261400000003,77.34030440000004,77.39540329999996,77.4901087,77.5411292,77.60453030000001,77.81076690000087,77.9571737000003,77.98209409999987,78.00077139999894,78.18657950000032,78.34211199999928,78.39784129999974,78.50859760000031,78.53131570000008,78.54390289999982,78.54516550000021,78.57107129999943,78.61281099999977,78.79311159999962,78.83727520000029,78.8409960999999,78.95622960000028,79.12787079999968,79.13012280000002,79.34861329999984,79.45436539999992,79.47053389999977,79.49204020000008,79.51056159999962,79.55645239999967,79.56382370000009,79.56500679999986,79.58891090000006,79.58942100000006,79.84056039999996,79.84891130000011,79.8881492,80.15667469999995,80.23669979999983,80.47751319999996,80.48189470000013,80.86244380000015,81.51650550000001,81.60048909999924,82.18462540000006,82.24632899999997,82.66102050000015,82.72151109999977,84.98363059999981,85.38065880000018,85.82386249999995,85.90415449999963,86.36396000000016,86.36475090000016,86.9442366000001,87.11569360000011,88.33294110000011,88.33394270000011,88.33397420000011,88.33484290000105,88.33640330000011,88.33712650000011,88.33808470000011,88.3386186000001,88.3392907000001,88.3397600000001,88.3397875000001,88.64111510000029,88.73068750000026,92.79851200000003,93.96894210000063,94.10037830000027],\"marker\":{\"color\":\"#636efa\",\"symbol\":\"circle\"},\"mode\":\"markers\",\"name\":\"\",\"showlegend\":false,\"type\":\"scattergeo\"}],                        {\"template\":{\"data\":{\"bar\":[{\"error_x\":{\"color\":\"#2a3f5f\"},\"error_y\":{\"color\":\"#2a3f5f\"},\"marker\":{\"line\":{\"color\":\"#E5ECF6\",\"width\":0.5},\"pattern\":{\"fillmode\":\"overlay\",\"size\":10,\"solidity\":0.2}},\"type\":\"bar\"}],\"barpolar\":[{\"marker\":{\"line\":{\"color\":\"#E5ECF6\",\"width\":0.5},\"pattern\":{\"fillmode\":\"overlay\",\"size\":10,\"solidity\":0.2}},\"type\":\"barpolar\"}],\"carpet\":[{\"aaxis\":{\"endlinecolor\":\"#2a3f5f\",\"gridcolor\":\"white\",\"linecolor\":\"white\",\"minorgridcolor\":\"white\",\"startlinecolor\":\"#2a3f5f\"},\"baxis\":{\"endlinecolor\":\"#2a3f5f\",\"gridcolor\":\"white\",\"linecolor\":\"white\",\"minorgridcolor\":\"white\",\"startlinecolor\":\"#2a3f5f\"},\"type\":\"carpet\"}],\"choropleth\":[{\"colorbar\":{\"outlinewidth\":0,\"ticks\":\"\"},\"type\":\"choropleth\"}],\"contour\":[{\"colorbar\":{\"outlinewidth\":0,\"ticks\":\"\"},\"colorscale\":[[0.0,\"#0d0887\"],[0.1111111111111111,\"#46039f\"],[0.2222222222222222,\"#7201a8\"],[0.3333333333333333,\"#9c179e\"],[0.4444444444444444,\"#bd3786\"],[0.5555555555555556,\"#d8576b\"],[0.6666666666666666,\"#ed7953\"],[0.7777777777777778,\"#fb9f3a\"],[0.8888888888888888,\"#fdca26\"],[1.0,\"#f0f921\"]],\"type\":\"contour\"}],\"contourcarpet\":[{\"colorbar\":{\"outlinewidth\":0,\"ticks\":\"\"},\"type\":\"contourcarpet\"}],\"heatmap\":[{\"colorbar\":{\"outlinewidth\":0,\"ticks\":\"\"},\"colorscale\":[[0.0,\"#0d0887\"],[0.1111111111111111,\"#46039f\"],[0.2222222222222222,\"#7201a8\"],[0.3333333333333333,\"#9c179e\"],[0.4444444444444444,\"#bd3786\"],[0.5555555555555556,\"#d8576b\"],[0.6666666666666666,\"#ed7953\"],[0.7777777777777778,\"#fb9f3a\"],[0.8888888888888888,\"#fdca26\"],[1.0,\"#f0f921\"]],\"type\":\"heatmap\"}],\"heatmapgl\":[{\"colorbar\":{\"outlinewidth\":0,\"ticks\":\"\"},\"colorscale\":[[0.0,\"#0d0887\"],[0.1111111111111111,\"#46039f\"],[0.2222222222222222,\"#7201a8\"],[0.3333333333333333,\"#9c179e\"],[0.4444444444444444,\"#bd3786\"],[0.5555555555555556,\"#d8576b\"],[0.6666666666666666,\"#ed7953\"],[0.7777777777777778,\"#fb9f3a\"],[0.8888888888888888,\"#fdca26\"],[1.0,\"#f0f921\"]],\"type\":\"heatmapgl\"}],\"histogram\":[{\"marker\":{\"pattern\":{\"fillmode\":\"overlay\",\"size\":10,\"solidity\":0.2}},\"type\":\"histogram\"}],\"histogram2d\":[{\"colorbar\":{\"outlinewidth\":0,\"ticks\":\"\"},\"colorscale\":[[0.0,\"#0d0887\"],[0.1111111111111111,\"#46039f\"],[0.2222222222222222,\"#7201a8\"],[0.3333333333333333,\"#9c179e\"],[0.4444444444444444,\"#bd3786\"],[0.5555555555555556,\"#d8576b\"],[0.6666666666666666,\"#ed7953\"],[0.7777777777777778,\"#fb9f3a\"],[0.8888888888888888,\"#fdca26\"],[1.0,\"#f0f921\"]],\"type\":\"histogram2d\"}],\"histogram2dcontour\":[{\"colorbar\":{\"outlinewidth\":0,\"ticks\":\"\"},\"colorscale\":[[0.0,\"#0d0887\"],[0.1111111111111111,\"#46039f\"],[0.2222222222222222,\"#7201a8\"],[0.3333333333333333,\"#9c179e\"],[0.4444444444444444,\"#bd3786\"],[0.5555555555555556,\"#d8576b\"],[0.6666666666666666,\"#ed7953\"],[0.7777777777777778,\"#fb9f3a\"],[0.8888888888888888,\"#fdca26\"],[1.0,\"#f0f921\"]],\"type\":\"histogram2dcontour\"}],\"mesh3d\":[{\"colorbar\":{\"outlinewidth\":0,\"ticks\":\"\"},\"type\":\"mesh3d\"}],\"parcoords\":[{\"line\":{\"colorbar\":{\"outlinewidth\":0,\"ticks\":\"\"}},\"type\":\"parcoords\"}],\"pie\":[{\"automargin\":true,\"type\":\"pie\"}],\"scatter\":[{\"marker\":{\"colorbar\":{\"outlinewidth\":0,\"ticks\":\"\"}},\"type\":\"scatter\"}],\"scatter3d\":[{\"line\":{\"colorbar\":{\"outlinewidth\":0,\"ticks\":\"\"}},\"marker\":{\"colorbar\":{\"outlinewidth\":0,\"ticks\":\"\"}},\"type\":\"scatter3d\"}],\"scattercarpet\":[{\"marker\":{\"colorbar\":{\"outlinewidth\":0,\"ticks\":\"\"}},\"type\":\"scattercarpet\"}],\"scattergeo\":[{\"marker\":{\"colorbar\":{\"outlinewidth\":0,\"ticks\":\"\"}},\"type\":\"scattergeo\"}],\"scattergl\":[{\"marker\":{\"colorbar\":{\"outlinewidth\":0,\"ticks\":\"\"}},\"type\":\"scattergl\"}],\"scattermapbox\":[{\"marker\":{\"colorbar\":{\"outlinewidth\":0,\"ticks\":\"\"}},\"type\":\"scattermapbox\"}],\"scatterpolar\":[{\"marker\":{\"colorbar\":{\"outlinewidth\":0,\"ticks\":\"\"}},\"type\":\"scatterpolar\"}],\"scatterpolargl\":[{\"marker\":{\"colorbar\":{\"outlinewidth\":0,\"ticks\":\"\"}},\"type\":\"scatterpolargl\"}],\"scatterternary\":[{\"marker\":{\"colorbar\":{\"outlinewidth\":0,\"ticks\":\"\"}},\"type\":\"scatterternary\"}],\"surface\":[{\"colorbar\":{\"outlinewidth\":0,\"ticks\":\"\"},\"colorscale\":[[0.0,\"#0d0887\"],[0.1111111111111111,\"#46039f\"],[0.2222222222222222,\"#7201a8\"],[0.3333333333333333,\"#9c179e\"],[0.4444444444444444,\"#bd3786\"],[0.5555555555555556,\"#d8576b\"],[0.6666666666666666,\"#ed7953\"],[0.7777777777777778,\"#fb9f3a\"],[0.8888888888888888,\"#fdca26\"],[1.0,\"#f0f921\"]],\"type\":\"surface\"}],\"table\":[{\"cells\":{\"fill\":{\"color\":\"#EBF0F8\"},\"line\":{\"color\":\"white\"}},\"header\":{\"fill\":{\"color\":\"#C8D4E3\"},\"line\":{\"color\":\"white\"}},\"type\":\"table\"}]},\"layout\":{\"annotationdefaults\":{\"arrowcolor\":\"#2a3f5f\",\"arrowhead\":0,\"arrowwidth\":1},\"autotypenumbers\":\"strict\",\"coloraxis\":{\"colorbar\":{\"outlinewidth\":0,\"ticks\":\"\"}},\"colorscale\":{\"diverging\":[[0,\"#8e0152\"],[0.1,\"#c51b7d\"],[0.2,\"#de77ae\"],[0.3,\"#f1b6da\"],[0.4,\"#fde0ef\"],[0.5,\"#f7f7f7\"],[0.6,\"#e6f5d0\"],[0.7,\"#b8e186\"],[0.8,\"#7fbc41\"],[0.9,\"#4d9221\"],[1,\"#276419\"]],\"sequential\":[[0.0,\"#0d0887\"],[0.1111111111111111,\"#46039f\"],[0.2222222222222222,\"#7201a8\"],[0.3333333333333333,\"#9c179e\"],[0.4444444444444444,\"#bd3786\"],[0.5555555555555556,\"#d8576b\"],[0.6666666666666666,\"#ed7953\"],[0.7777777777777778,\"#fb9f3a\"],[0.8888888888888888,\"#fdca26\"],[1.0,\"#f0f921\"]],\"sequentialminus\":[[0.0,\"#0d0887\"],[0.1111111111111111,\"#46039f\"],[0.2222222222222222,\"#7201a8\"],[0.3333333333333333,\"#9c179e\"],[0.4444444444444444,\"#bd3786\"],[0.5555555555555556,\"#d8576b\"],[0.6666666666666666,\"#ed7953\"],[0.7777777777777778,\"#fb9f3a\"],[0.8888888888888888,\"#fdca26\"],[1.0,\"#f0f921\"]]},\"colorway\":[\"#636efa\",\"#EF553B\",\"#00cc96\",\"#ab63fa\",\"#FFA15A\",\"#19d3f3\",\"#FF6692\",\"#B6E880\",\"#FF97FF\",\"#FECB52\"],\"font\":{\"color\":\"#2a3f5f\"},\"geo\":{\"bgcolor\":\"white\",\"lakecolor\":\"white\",\"landcolor\":\"#E5ECF6\",\"showlakes\":true,\"showland\":true,\"subunitcolor\":\"white\"},\"hoverlabel\":{\"align\":\"left\"},\"hovermode\":\"closest\",\"mapbox\":{\"style\":\"light\"},\"paper_bgcolor\":\"white\",\"plot_bgcolor\":\"#E5ECF6\",\"polar\":{\"angularaxis\":{\"gridcolor\":\"white\",\"linecolor\":\"white\",\"ticks\":\"\"},\"bgcolor\":\"#E5ECF6\",\"radialaxis\":{\"gridcolor\":\"white\",\"linecolor\":\"white\",\"ticks\":\"\"}},\"scene\":{\"xaxis\":{\"backgroundcolor\":\"#E5ECF6\",\"gridcolor\":\"white\",\"gridwidth\":2,\"linecolor\":\"white\",\"showbackground\":true,\"ticks\":\"\",\"zerolinecolor\":\"white\"},\"yaxis\":{\"backgroundcolor\":\"#E5ECF6\",\"gridcolor\":\"white\",\"gridwidth\":2,\"linecolor\":\"white\",\"showbackground\":true,\"ticks\":\"\",\"zerolinecolor\":\"white\"},\"zaxis\":{\"backgroundcolor\":\"#E5ECF6\",\"gridcolor\":\"white\",\"gridwidth\":2,\"linecolor\":\"white\",\"showbackground\":true,\"ticks\":\"\",\"zerolinecolor\":\"white\"}},\"shapedefaults\":{\"line\":{\"color\":\"#2a3f5f\"}},\"ternary\":{\"aaxis\":{\"gridcolor\":\"white\",\"linecolor\":\"white\",\"ticks\":\"\"},\"baxis\":{\"gridcolor\":\"white\",\"linecolor\":\"white\",\"ticks\":\"\"},\"bgcolor\":\"#E5ECF6\",\"caxis\":{\"gridcolor\":\"white\",\"linecolor\":\"white\",\"ticks\":\"\"}},\"title\":{\"x\":0.05},\"xaxis\":{\"automargin\":true,\"gridcolor\":\"white\",\"linecolor\":\"white\",\"ticks\":\"\",\"title\":{\"standoff\":15},\"zerolinecolor\":\"white\",\"zerolinewidth\":2},\"yaxis\":{\"automargin\":true,\"gridcolor\":\"white\",\"linecolor\":\"white\",\"ticks\":\"\",\"title\":{\"standoff\":15},\"zerolinecolor\":\"white\",\"zerolinewidth\":2}}},\"geo\":{\"domain\":{\"x\":[0.0,1.0],\"y\":[0.0,1.0]},\"center\":{},\"fitbounds\":\"locations\"},\"legend\":{\"tracegroupgap\":0},\"margin\":{\"t\":60}},                        {\"responsive\": true}                    ).then(function(){\n",
              "                            \n",
              "var gd = document.getElementById('fa846a95-14a2-4b8b-ae5d-3be374b26fc2');\n",
              "var x = new MutationObserver(function (mutations, observer) {{\n",
              "        var display = window.getComputedStyle(gd).display;\n",
              "        if (!display || display === 'none') {{\n",
              "            console.log([gd, 'removed!']);\n",
              "            Plotly.purge(gd);\n",
              "            observer.disconnect();\n",
              "        }}\n",
              "}});\n",
              "\n",
              "// Listen for the removal of the full notebook cells\n",
              "var notebookContainer = gd.closest('#notebook-container');\n",
              "if (notebookContainer) {{\n",
              "    x.observe(notebookContainer, {childList: true});\n",
              "}}\n",
              "\n",
              "// Listen for the clearing of the current output cell\n",
              "var outputEl = gd.closest('.output');\n",
              "if (outputEl) {{\n",
              "    x.observe(outputEl, {childList: true});\n",
              "}}\n",
              "\n",
              "                        })                };                            </script>        </div>\n",
              "</body>\n",
              "</html>"
            ]
          },
          "metadata": {}
        }
      ]
    }
  ]
}